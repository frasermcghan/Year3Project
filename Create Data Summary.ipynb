{
 "cells": [
  {
   "cell_type": "code",
   "execution_count": 56,
   "metadata": {},
   "outputs": [],
   "source": [
    "import pandas as pd\n",
    "\n",
    "import os\n",
    "import re"
   ]
  },
  {
   "cell_type": "code",
   "execution_count": 12,
   "metadata": {},
   "outputs": [],
   "source": [
    "data_directory = \"/Users/fraser/Uni/Year 3/Project/processed_data/\""
   ]
  },
  {
   "cell_type": "code",
   "execution_count": 19,
   "metadata": {},
   "outputs": [],
   "source": [
    "def sorted_alphanumeric(data):\n",
    "    convert = lambda text: int(text) if text.isdigit() else text.lower()\n",
    "    alphanum_key = lambda key: [ convert(c) for c in re.split('([0-9]+)', key) ] \n",
    "    return sorted(data, key=alphanum_key)"
   ]
  },
  {
   "cell_type": "code",
   "execution_count": 51,
   "metadata": {},
   "outputs": [],
   "source": [
    "admin = pd.DataFrame(columns=['sample', 'vibration', 'current', 'thermal', 'label'])\n",
    "\n",
    "samples = []\n",
    "vibs = []\n",
    "curs = []\n",
    "therms = []\n",
    "labels = []\n",
    "\n",
    "i = 1\n",
    "\n",
    "for adir in os.listdir(data_directory):\n",
    "    if not adir.startswith('.'):\n",
    "        bdir = data_directory + f'{adir}/'\n",
    "        \n",
    "        for afile in sorted_alphanumeric(os.listdir(bdir)):\n",
    "\n",
    "            if 'vibration' in afile:\n",
    "                vibs.append(bdir + afile)\n",
    "                samples.append(i)\n",
    "                labels.append(adir)\n",
    "                i += 1\n",
    "            \n",
    "            if 'current' in afile:\n",
    "                curs.append(bdir + afile)\n",
    "                \n",
    "            if 'thermal' in afile:\n",
    "                therms.append(bdir + afile)"
   ]
  },
  {
   "cell_type": "code",
   "execution_count": 53,
   "metadata": {},
   "outputs": [],
   "source": [
    "admin['sample'] = samples\n",
    "admin['vibration'] = vibs\n",
    "admin['current'] = curs\n",
    "admin['thermal'] = therms\n",
    "admin['label'] = labels"
   ]
  },
  {
   "cell_type": "code",
   "execution_count": 54,
   "metadata": {},
   "outputs": [
    {
     "data": {
      "text/html": [
       "<div>\n",
       "<style scoped>\n",
       "    .dataframe tbody tr th:only-of-type {\n",
       "        vertical-align: middle;\n",
       "    }\n",
       "\n",
       "    .dataframe tbody tr th {\n",
       "        vertical-align: top;\n",
       "    }\n",
       "\n",
       "    .dataframe thead th {\n",
       "        text-align: right;\n",
       "    }\n",
       "</style>\n",
       "<table border=\"1\" class=\"dataframe\">\n",
       "  <thead>\n",
       "    <tr style=\"text-align: right;\">\n",
       "      <th></th>\n",
       "      <th>sample</th>\n",
       "      <th>vibration</th>\n",
       "      <th>current</th>\n",
       "      <th>thermal</th>\n",
       "      <th>label</th>\n",
       "    </tr>\n",
       "  </thead>\n",
       "  <tbody>\n",
       "    <tr>\n",
       "      <th>0</th>\n",
       "      <td>1</td>\n",
       "      <td>/Users/fraser/Uni/Year 3/Project/processed_dat...</td>\n",
       "      <td>/Users/fraser/Uni/Year 3/Project/processed_dat...</td>\n",
       "      <td>/Users/fraser/Uni/Year 3/Project/processed_dat...</td>\n",
       "      <td>1bar</td>\n",
       "    </tr>\n",
       "    <tr>\n",
       "      <th>1</th>\n",
       "      <td>2</td>\n",
       "      <td>/Users/fraser/Uni/Year 3/Project/processed_dat...</td>\n",
       "      <td>/Users/fraser/Uni/Year 3/Project/processed_dat...</td>\n",
       "      <td>/Users/fraser/Uni/Year 3/Project/processed_dat...</td>\n",
       "      <td>1bar</td>\n",
       "    </tr>\n",
       "    <tr>\n",
       "      <th>2</th>\n",
       "      <td>3</td>\n",
       "      <td>/Users/fraser/Uni/Year 3/Project/processed_dat...</td>\n",
       "      <td>/Users/fraser/Uni/Year 3/Project/processed_dat...</td>\n",
       "      <td>/Users/fraser/Uni/Year 3/Project/processed_dat...</td>\n",
       "      <td>1bar</td>\n",
       "    </tr>\n",
       "    <tr>\n",
       "      <th>3</th>\n",
       "      <td>4</td>\n",
       "      <td>/Users/fraser/Uni/Year 3/Project/processed_dat...</td>\n",
       "      <td>/Users/fraser/Uni/Year 3/Project/processed_dat...</td>\n",
       "      <td>/Users/fraser/Uni/Year 3/Project/processed_dat...</td>\n",
       "      <td>1bar</td>\n",
       "    </tr>\n",
       "    <tr>\n",
       "      <th>4</th>\n",
       "      <td>5</td>\n",
       "      <td>/Users/fraser/Uni/Year 3/Project/processed_dat...</td>\n",
       "      <td>/Users/fraser/Uni/Year 3/Project/processed_dat...</td>\n",
       "      <td>/Users/fraser/Uni/Year 3/Project/processed_dat...</td>\n",
       "      <td>1bar</td>\n",
       "    </tr>\n",
       "  </tbody>\n",
       "</table>\n",
       "</div>"
      ],
      "text/plain": [
       "   sample                                          vibration  \\\n",
       "0       1  /Users/fraser/Uni/Year 3/Project/processed_dat...   \n",
       "1       2  /Users/fraser/Uni/Year 3/Project/processed_dat...   \n",
       "2       3  /Users/fraser/Uni/Year 3/Project/processed_dat...   \n",
       "3       4  /Users/fraser/Uni/Year 3/Project/processed_dat...   \n",
       "4       5  /Users/fraser/Uni/Year 3/Project/processed_dat...   \n",
       "\n",
       "                                             current  \\\n",
       "0  /Users/fraser/Uni/Year 3/Project/processed_dat...   \n",
       "1  /Users/fraser/Uni/Year 3/Project/processed_dat...   \n",
       "2  /Users/fraser/Uni/Year 3/Project/processed_dat...   \n",
       "3  /Users/fraser/Uni/Year 3/Project/processed_dat...   \n",
       "4  /Users/fraser/Uni/Year 3/Project/processed_dat...   \n",
       "\n",
       "                                             thermal label  \n",
       "0  /Users/fraser/Uni/Year 3/Project/processed_dat...  1bar  \n",
       "1  /Users/fraser/Uni/Year 3/Project/processed_dat...  1bar  \n",
       "2  /Users/fraser/Uni/Year 3/Project/processed_dat...  1bar  \n",
       "3  /Users/fraser/Uni/Year 3/Project/processed_dat...  1bar  \n",
       "4  /Users/fraser/Uni/Year 3/Project/processed_dat...  1bar  "
      ]
     },
     "execution_count": 54,
     "metadata": {},
     "output_type": "execute_result"
    }
   ],
   "source": [
    "admin.head()"
   ]
  },
  {
   "cell_type": "code",
   "execution_count": 55,
   "metadata": {},
   "outputs": [],
   "source": [
    "admin.to_csv(data_directory + \"data_summary.csv\", index=False)"
   ]
  }
 ],
 "metadata": {
  "kernelspec": {
   "display_name": "Python 3",
   "language": "python",
   "name": "python3"
  },
  "language_info": {
   "codemirror_mode": {
    "name": "ipython",
    "version": 3
   },
   "file_extension": ".py",
   "mimetype": "text/x-python",
   "name": "python",
   "nbconvert_exporter": "python",
   "pygments_lexer": "ipython3",
   "version": "3.7.6"
  }
 },
 "nbformat": 4,
 "nbformat_minor": 2
}
