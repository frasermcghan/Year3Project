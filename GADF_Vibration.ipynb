{
  "nbformat": 4,
  "nbformat_minor": 0,
  "metadata": {
    "kernelspec": {
      "display_name": "Python 3",
      "language": "python",
      "name": "python3"
    },
    "language_info": {
      "codemirror_mode": {
        "name": "ipython",
        "version": 3
      },
      "file_extension": ".py",
      "mimetype": "text/x-python",
      "name": "python",
      "nbconvert_exporter": "python",
      "pygments_lexer": "ipython3",
      "version": "3.7.6"
    },
    "colab": {
      "name": "GADF Vibration.ipynb",
      "provenance": [],
      "include_colab_link": true
    }
  },
  "cells": [
    {
      "cell_type": "markdown",
      "metadata": {
        "id": "view-in-github",
        "colab_type": "text"
      },
      "source": [
        "<a href=\"https://colab.research.google.com/github/frasermcghan/Year3Project/blob/master/GADF_Vibration.ipynb\" target=\"_parent\"><img src=\"https://colab.research.google.com/assets/colab-badge.svg\" alt=\"Open In Colab\"/></a>"
      ]
    },
    {
      "cell_type": "code",
      "metadata": {
        "id": "NsjPwf2xkIZe",
        "colab_type": "code",
        "colab": {}
      },
      "source": [
        "import matplotlib.pyplot as plt \n",
        "%matplotlib inline\n",
        "\n",
        "import pandas as pd \n",
        "import numpy as np\n",
        "import os\n",
        "from pathlib import Path\n",
        "\n",
        "from pyts.image import GramianAngularField, MarkovTransitionField, RecurrencePlot\n",
        "from sklearn.model_selection import train_test_split"
      ],
      "execution_count": 0,
      "outputs": []
    },
    {
      "cell_type": "code",
      "metadata": {
        "id": "1-0yBnKskIZn",
        "colab_type": "code",
        "colab": {}
      },
      "source": [
        "project_directory = \"/Users/fraser/Uni/Year 3/Project/\""
      ],
      "execution_count": 0,
      "outputs": []
    },
    {
      "cell_type": "code",
      "metadata": {
        "id": "41xSrBH4kIZt",
        "colab_type": "code",
        "colab": {}
      },
      "source": [
        "data_summary_file = \"/Users/fraser/Uni/Year 3/Project/processed_data/data_summary.csv\""
      ],
      "execution_count": 0,
      "outputs": []
    },
    {
      "cell_type": "markdown",
      "metadata": {
        "id": "l_AA83JXkIZx",
        "colab_type": "text"
      },
      "source": [
        "# Split data into train and test set"
      ]
    },
    {
      "cell_type": "markdown",
      "metadata": {
        "id": "w-XPO00dkIZy",
        "colab_type": "text"
      },
      "source": [
        "- classes are imabalanced as there are only datapoints for 2/3 load conditions for '4bars' and '8bars'\n",
        "- therefore we will split the dataset by fault, randomly split each into train and test sets, then join them back together"
      ]
    },
    {
      "cell_type": "code",
      "metadata": {
        "id": "gfcoxiTWkIZz",
        "colab_type": "code",
        "colab": {}
      },
      "source": [
        "data = pd.read_csv(data_summary_file)"
      ],
      "execution_count": 0,
      "outputs": []
    },
    {
      "cell_type": "code",
      "metadata": {
        "id": "o_Jg6Cn6kIZ3",
        "colab_type": "code",
        "colab": {}
      },
      "source": [
        "data_1bar = data[data['label'] == '1bar']\n",
        "data_4bars = data[data['label'] == '4bars']\n",
        "data_8bars = data[data['label'] == '8bars']\n",
        "data_inner = data[data['label'] == 'inner']\n",
        "data_outer = data[data['label'] == 'outer']\n",
        "data_ball = data[data['label'] == 'ball']\n",
        "data_healthy = data[data['label'] == 'healthy']"
      ],
      "execution_count": 0,
      "outputs": []
    },
    {
      "cell_type": "code",
      "metadata": {
        "id": "zHUr7KOIkIZ6",
        "colab_type": "code",
        "colab": {},
        "outputId": "d633eff0-5630-4d86-db55-e1863b442613"
      },
      "source": [
        "print(f\"Number of 1bar: {len(data_1bar)}\")\n",
        "print(f\"Number of 4bars: {len(data_4bars)}\")\n",
        "print(f\"Number of 8bars: {len(data_8bars)}\")\n",
        "print(f\"Number of inner: {len(data_inner)}\")\n",
        "print(f\"Number of outer: {len(data_outer)}\")\n",
        "print(f\"Number of ball: {len(data_ball)}\")\n",
        "print(f\"Number of healthy: {len(data_healthy)}\")"
      ],
      "execution_count": 0,
      "outputs": [
        {
          "output_type": "stream",
          "text": [
            "Number of 1bar: 360\n",
            "Number of 4bars: 240\n",
            "Number of 8bars: 240\n",
            "Number of inner: 360\n",
            "Number of outer: 360\n",
            "Number of ball: 360\n",
            "Number of healthy: 360\n"
          ],
          "name": "stdout"
        }
      ]
    },
    {
      "cell_type": "markdown",
      "metadata": {
        "id": "dfaaahKikIZ-",
        "colab_type": "text"
      },
      "source": [
        "### Create Test Set"
      ]
    },
    {
      "cell_type": "code",
      "metadata": {
        "id": "QNKJLyNNkIZ-",
        "colab_type": "code",
        "colab": {}
      },
      "source": [
        "data_1bar_train, data_1bar_test = train_test_split(data_1bar, \n",
        "                                                   test_size=0.2,\n",
        "                                                   random_state=42)\n",
        "\n",
        "data_4bars_train, data_4bars_test = train_test_split(data_4bars, \n",
        "                                                     test_size=0.2,\n",
        "                                                     random_state=42)\n",
        "\n",
        "data_8bars_train, data_8bars_test = train_test_split(data_8bars,\n",
        "                                                     test_size=0.2,\n",
        "                                                     random_state=42)\n",
        "\n",
        "data_inner_train, data_inner_test = train_test_split(data_inner,\n",
        "                                                     test_size=0.2, \n",
        "                                                     random_state=42)\n",
        "\n",
        "data_outer_train, data_outer_test = train_test_split(data_outer, \n",
        "                                                     test_size=0.2, \n",
        "                                                     random_state=42)\n",
        "\n",
        "data_ball_train, data_ball_test = train_test_split(data_ball, \n",
        "                                                   test_size=0.2, \n",
        "                                                   random_state=42)\n",
        "\n",
        "data_healthy_train, data_healthy_test = train_test_split(data_healthy, \n",
        "                                                         test_size=0.2, \n",
        "                                                         random_state=42)"
      ],
      "execution_count": 0,
      "outputs": []
    },
    {
      "cell_type": "code",
      "metadata": {
        "id": "8ETJGxRGkIaB",
        "colab_type": "code",
        "colab": {}
      },
      "source": [
        "test_dfs = [data_1bar_test, \n",
        "             data_4bars_test,\n",
        "             data_8bars_test,\n",
        "             data_inner_test,\n",
        "             data_outer_test,\n",
        "             data_ball_test,\n",
        "             data_healthy_test]"
      ],
      "execution_count": 0,
      "outputs": []
    },
    {
      "cell_type": "code",
      "metadata": {
        "id": "vaKpn0yekIaE",
        "colab_type": "code",
        "colab": {}
      },
      "source": [
        "data_test = pd.concat(test_dfs)"
      ],
      "execution_count": 0,
      "outputs": []
    },
    {
      "cell_type": "code",
      "metadata": {
        "id": "ytMG0ycZkIaG",
        "colab_type": "code",
        "colab": {},
        "outputId": "9e61469c-a473-4a79-8575-e7db2efa74b0"
      },
      "source": [
        "data_test.head()"
      ],
      "execution_count": 0,
      "outputs": [
        {
          "output_type": "execute_result",
          "data": {
            "text/html": [
              "<div>\n",
              "<style scoped>\n",
              "    .dataframe tbody tr th:only-of-type {\n",
              "        vertical-align: middle;\n",
              "    }\n",
              "\n",
              "    .dataframe tbody tr th {\n",
              "        vertical-align: top;\n",
              "    }\n",
              "\n",
              "    .dataframe thead th {\n",
              "        text-align: right;\n",
              "    }\n",
              "</style>\n",
              "<table border=\"1\" class=\"dataframe\">\n",
              "  <thead>\n",
              "    <tr style=\"text-align: right;\">\n",
              "      <th></th>\n",
              "      <th>sample</th>\n",
              "      <th>vibration</th>\n",
              "      <th>current</th>\n",
              "      <th>thermal</th>\n",
              "      <th>label</th>\n",
              "    </tr>\n",
              "  </thead>\n",
              "  <tbody>\n",
              "    <tr>\n",
              "      <th>224</th>\n",
              "      <td>225</td>\n",
              "      <td>/Users/fraser/Uni/Year 3/Project/processed_dat...</td>\n",
              "      <td>/Users/fraser/Uni/Year 3/Project/processed_dat...</td>\n",
              "      <td>/Users/fraser/Uni/Year 3/Project/processed_dat...</td>\n",
              "      <td>1bar</td>\n",
              "    </tr>\n",
              "    <tr>\n",
              "      <th>42</th>\n",
              "      <td>43</td>\n",
              "      <td>/Users/fraser/Uni/Year 3/Project/processed_dat...</td>\n",
              "      <td>/Users/fraser/Uni/Year 3/Project/processed_dat...</td>\n",
              "      <td>/Users/fraser/Uni/Year 3/Project/processed_dat...</td>\n",
              "      <td>1bar</td>\n",
              "    </tr>\n",
              "    <tr>\n",
              "      <th>285</th>\n",
              "      <td>286</td>\n",
              "      <td>/Users/fraser/Uni/Year 3/Project/processed_dat...</td>\n",
              "      <td>/Users/fraser/Uni/Year 3/Project/processed_dat...</td>\n",
              "      <td>/Users/fraser/Uni/Year 3/Project/processed_dat...</td>\n",
              "      <td>1bar</td>\n",
              "    </tr>\n",
              "    <tr>\n",
              "      <th>302</th>\n",
              "      <td>303</td>\n",
              "      <td>/Users/fraser/Uni/Year 3/Project/processed_dat...</td>\n",
              "      <td>/Users/fraser/Uni/Year 3/Project/processed_dat...</td>\n",
              "      <td>/Users/fraser/Uni/Year 3/Project/processed_dat...</td>\n",
              "      <td>1bar</td>\n",
              "    </tr>\n",
              "    <tr>\n",
              "      <th>56</th>\n",
              "      <td>57</td>\n",
              "      <td>/Users/fraser/Uni/Year 3/Project/processed_dat...</td>\n",
              "      <td>/Users/fraser/Uni/Year 3/Project/processed_dat...</td>\n",
              "      <td>/Users/fraser/Uni/Year 3/Project/processed_dat...</td>\n",
              "      <td>1bar</td>\n",
              "    </tr>\n",
              "  </tbody>\n",
              "</table>\n",
              "</div>"
            ],
            "text/plain": [
              "     sample                                          vibration  \\\n",
              "224     225  /Users/fraser/Uni/Year 3/Project/processed_dat...   \n",
              "42       43  /Users/fraser/Uni/Year 3/Project/processed_dat...   \n",
              "285     286  /Users/fraser/Uni/Year 3/Project/processed_dat...   \n",
              "302     303  /Users/fraser/Uni/Year 3/Project/processed_dat...   \n",
              "56       57  /Users/fraser/Uni/Year 3/Project/processed_dat...   \n",
              "\n",
              "                                               current  \\\n",
              "224  /Users/fraser/Uni/Year 3/Project/processed_dat...   \n",
              "42   /Users/fraser/Uni/Year 3/Project/processed_dat...   \n",
              "285  /Users/fraser/Uni/Year 3/Project/processed_dat...   \n",
              "302  /Users/fraser/Uni/Year 3/Project/processed_dat...   \n",
              "56   /Users/fraser/Uni/Year 3/Project/processed_dat...   \n",
              "\n",
              "                                               thermal label  \n",
              "224  /Users/fraser/Uni/Year 3/Project/processed_dat...  1bar  \n",
              "42   /Users/fraser/Uni/Year 3/Project/processed_dat...  1bar  \n",
              "285  /Users/fraser/Uni/Year 3/Project/processed_dat...  1bar  \n",
              "302  /Users/fraser/Uni/Year 3/Project/processed_dat...  1bar  \n",
              "56   /Users/fraser/Uni/Year 3/Project/processed_dat...  1bar  "
            ]
          },
          "metadata": {
            "tags": []
          },
          "execution_count": 10
        }
      ]
    },
    {
      "cell_type": "markdown",
      "metadata": {
        "id": "SRFuVIi9kIaJ",
        "colab_type": "text"
      },
      "source": [
        "### Create Training and Validation Set"
      ]
    },
    {
      "cell_type": "code",
      "metadata": {
        "id": "ioyHvOmXkIaJ",
        "colab_type": "code",
        "colab": {}
      },
      "source": [
        "data_1bar_train, data_1bar_valid = train_test_split(data_1bar_train, \n",
        "                                                    test_size=0.2, \n",
        "                                                    random_state=42)\n",
        "\n",
        "data_4bars_train, data_4bars_valid = train_test_split(data_4bars_train,\n",
        "                                                      test_size=0.2,\n",
        "                                                      random_state=42)\n",
        "\n",
        "data_8bars_train, data_8bars_valid = train_test_split(data_8bars_train,\n",
        "                                                      test_size=0.2, \n",
        "                                                      random_state=42)\n",
        "\n",
        "data_inner_train, data_inner_valid = train_test_split(data_inner_train, \n",
        "                                                      test_size=0.2, \n",
        "                                                      random_state=42)\n",
        "\n",
        "data_outer_train, data_outer_valid = train_test_split(data_outer_train, \n",
        "                                                      test_size=0.2, \n",
        "                                                      random_state=42)\n",
        "\n",
        "data_ball_train, data_ball_valid = train_test_split(data_ball_train,\n",
        "                                                    test_size=0.2, \n",
        "                                                    random_state=42)\n",
        "\n",
        "data_healthy_train, data_healthy_valid = train_test_split(data_healthy_train, \n",
        "                                                          test_size=0.2, \n",
        "                                                          random_state=42)"
      ],
      "execution_count": 0,
      "outputs": []
    },
    {
      "cell_type": "code",
      "metadata": {
        "id": "uS-XdmDTkIaM",
        "colab_type": "code",
        "colab": {}
      },
      "source": [
        "train_dfs = [data_1bar_train, \n",
        "             data_4bars_train,\n",
        "             data_8bars_train,\n",
        "             data_inner_train,\n",
        "             data_outer_train,\n",
        "             data_ball_train,\n",
        "             data_healthy_train]"
      ],
      "execution_count": 0,
      "outputs": []
    },
    {
      "cell_type": "code",
      "metadata": {
        "id": "g2nq9H41kIaO",
        "colab_type": "code",
        "colab": {}
      },
      "source": [
        "valid_dfs = [data_1bar_valid, \n",
        "             data_4bars_valid,\n",
        "             data_8bars_valid,\n",
        "             data_inner_valid,\n",
        "             data_outer_valid,\n",
        "             data_ball_valid,\n",
        "             data_healthy_valid]"
      ],
      "execution_count": 0,
      "outputs": []
    },
    {
      "cell_type": "code",
      "metadata": {
        "id": "OaRlLOa6kIaQ",
        "colab_type": "code",
        "colab": {}
      },
      "source": [
        "data_train = pd.concat(train_dfs)"
      ],
      "execution_count": 0,
      "outputs": []
    },
    {
      "cell_type": "code",
      "metadata": {
        "id": "TucKTeI6kIaS",
        "colab_type": "code",
        "colab": {},
        "outputId": "ae828ef1-f696-4e99-8618-2109fd5b5bbb"
      },
      "source": [
        "data_train.head()"
      ],
      "execution_count": 0,
      "outputs": [
        {
          "output_type": "execute_result",
          "data": {
            "text/html": [
              "<div>\n",
              "<style scoped>\n",
              "    .dataframe tbody tr th:only-of-type {\n",
              "        vertical-align: middle;\n",
              "    }\n",
              "\n",
              "    .dataframe tbody tr th {\n",
              "        vertical-align: top;\n",
              "    }\n",
              "\n",
              "    .dataframe thead th {\n",
              "        text-align: right;\n",
              "    }\n",
              "</style>\n",
              "<table border=\"1\" class=\"dataframe\">\n",
              "  <thead>\n",
              "    <tr style=\"text-align: right;\">\n",
              "      <th></th>\n",
              "      <th>sample</th>\n",
              "      <th>vibration</th>\n",
              "      <th>current</th>\n",
              "      <th>thermal</th>\n",
              "      <th>label</th>\n",
              "    </tr>\n",
              "  </thead>\n",
              "  <tbody>\n",
              "    <tr>\n",
              "      <th>296</th>\n",
              "      <td>297</td>\n",
              "      <td>/Users/fraser/Uni/Year 3/Project/processed_dat...</td>\n",
              "      <td>/Users/fraser/Uni/Year 3/Project/processed_dat...</td>\n",
              "      <td>/Users/fraser/Uni/Year 3/Project/processed_dat...</td>\n",
              "      <td>1bar</td>\n",
              "    </tr>\n",
              "    <tr>\n",
              "      <th>81</th>\n",
              "      <td>82</td>\n",
              "      <td>/Users/fraser/Uni/Year 3/Project/processed_dat...</td>\n",
              "      <td>/Users/fraser/Uni/Year 3/Project/processed_dat...</td>\n",
              "      <td>/Users/fraser/Uni/Year 3/Project/processed_dat...</td>\n",
              "      <td>1bar</td>\n",
              "    </tr>\n",
              "    <tr>\n",
              "      <th>10</th>\n",
              "      <td>11</td>\n",
              "      <td>/Users/fraser/Uni/Year 3/Project/processed_dat...</td>\n",
              "      <td>/Users/fraser/Uni/Year 3/Project/processed_dat...</td>\n",
              "      <td>/Users/fraser/Uni/Year 3/Project/processed_dat...</td>\n",
              "      <td>1bar</td>\n",
              "    </tr>\n",
              "    <tr>\n",
              "      <th>97</th>\n",
              "      <td>98</td>\n",
              "      <td>/Users/fraser/Uni/Year 3/Project/processed_dat...</td>\n",
              "      <td>/Users/fraser/Uni/Year 3/Project/processed_dat...</td>\n",
              "      <td>/Users/fraser/Uni/Year 3/Project/processed_dat...</td>\n",
              "      <td>1bar</td>\n",
              "    </tr>\n",
              "    <tr>\n",
              "      <th>145</th>\n",
              "      <td>146</td>\n",
              "      <td>/Users/fraser/Uni/Year 3/Project/processed_dat...</td>\n",
              "      <td>/Users/fraser/Uni/Year 3/Project/processed_dat...</td>\n",
              "      <td>/Users/fraser/Uni/Year 3/Project/processed_dat...</td>\n",
              "      <td>1bar</td>\n",
              "    </tr>\n",
              "  </tbody>\n",
              "</table>\n",
              "</div>"
            ],
            "text/plain": [
              "     sample                                          vibration  \\\n",
              "296     297  /Users/fraser/Uni/Year 3/Project/processed_dat...   \n",
              "81       82  /Users/fraser/Uni/Year 3/Project/processed_dat...   \n",
              "10       11  /Users/fraser/Uni/Year 3/Project/processed_dat...   \n",
              "97       98  /Users/fraser/Uni/Year 3/Project/processed_dat...   \n",
              "145     146  /Users/fraser/Uni/Year 3/Project/processed_dat...   \n",
              "\n",
              "                                               current  \\\n",
              "296  /Users/fraser/Uni/Year 3/Project/processed_dat...   \n",
              "81   /Users/fraser/Uni/Year 3/Project/processed_dat...   \n",
              "10   /Users/fraser/Uni/Year 3/Project/processed_dat...   \n",
              "97   /Users/fraser/Uni/Year 3/Project/processed_dat...   \n",
              "145  /Users/fraser/Uni/Year 3/Project/processed_dat...   \n",
              "\n",
              "                                               thermal label  \n",
              "296  /Users/fraser/Uni/Year 3/Project/processed_dat...  1bar  \n",
              "81   /Users/fraser/Uni/Year 3/Project/processed_dat...  1bar  \n",
              "10   /Users/fraser/Uni/Year 3/Project/processed_dat...  1bar  \n",
              "97   /Users/fraser/Uni/Year 3/Project/processed_dat...  1bar  \n",
              "145  /Users/fraser/Uni/Year 3/Project/processed_dat...  1bar  "
            ]
          },
          "metadata": {
            "tags": []
          },
          "execution_count": 15
        }
      ]
    },
    {
      "cell_type": "code",
      "metadata": {
        "id": "FDne2sz-kIaU",
        "colab_type": "code",
        "colab": {}
      },
      "source": [
        "data_valid = pd.concat(valid_dfs)"
      ],
      "execution_count": 0,
      "outputs": []
    },
    {
      "cell_type": "code",
      "metadata": {
        "id": "aGpEBNvzkIaW",
        "colab_type": "code",
        "colab": {},
        "outputId": "94a4baec-3a4d-4f16-bc05-1d793e471144"
      },
      "source": [
        "data_valid.head()"
      ],
      "execution_count": 0,
      "outputs": [
        {
          "output_type": "execute_result",
          "data": {
            "text/html": [
              "<div>\n",
              "<style scoped>\n",
              "    .dataframe tbody tr th:only-of-type {\n",
              "        vertical-align: middle;\n",
              "    }\n",
              "\n",
              "    .dataframe tbody tr th {\n",
              "        vertical-align: top;\n",
              "    }\n",
              "\n",
              "    .dataframe thead th {\n",
              "        text-align: right;\n",
              "    }\n",
              "</style>\n",
              "<table border=\"1\" class=\"dataframe\">\n",
              "  <thead>\n",
              "    <tr style=\"text-align: right;\">\n",
              "      <th></th>\n",
              "      <th>sample</th>\n",
              "      <th>vibration</th>\n",
              "      <th>current</th>\n",
              "      <th>thermal</th>\n",
              "      <th>label</th>\n",
              "    </tr>\n",
              "  </thead>\n",
              "  <tbody>\n",
              "    <tr>\n",
              "      <th>301</th>\n",
              "      <td>302</td>\n",
              "      <td>/Users/fraser/Uni/Year 3/Project/processed_dat...</td>\n",
              "      <td>/Users/fraser/Uni/Year 3/Project/processed_dat...</td>\n",
              "      <td>/Users/fraser/Uni/Year 3/Project/processed_dat...</td>\n",
              "      <td>1bar</td>\n",
              "    </tr>\n",
              "    <tr>\n",
              "      <th>150</th>\n",
              "      <td>151</td>\n",
              "      <td>/Users/fraser/Uni/Year 3/Project/processed_dat...</td>\n",
              "      <td>/Users/fraser/Uni/Year 3/Project/processed_dat...</td>\n",
              "      <td>/Users/fraser/Uni/Year 3/Project/processed_dat...</td>\n",
              "      <td>1bar</td>\n",
              "    </tr>\n",
              "    <tr>\n",
              "      <th>189</th>\n",
              "      <td>190</td>\n",
              "      <td>/Users/fraser/Uni/Year 3/Project/processed_dat...</td>\n",
              "      <td>/Users/fraser/Uni/Year 3/Project/processed_dat...</td>\n",
              "      <td>/Users/fraser/Uni/Year 3/Project/processed_dat...</td>\n",
              "      <td>1bar</td>\n",
              "    </tr>\n",
              "    <tr>\n",
              "      <th>79</th>\n",
              "      <td>80</td>\n",
              "      <td>/Users/fraser/Uni/Year 3/Project/processed_dat...</td>\n",
              "      <td>/Users/fraser/Uni/Year 3/Project/processed_dat...</td>\n",
              "      <td>/Users/fraser/Uni/Year 3/Project/processed_dat...</td>\n",
              "      <td>1bar</td>\n",
              "    </tr>\n",
              "    <tr>\n",
              "      <th>322</th>\n",
              "      <td>323</td>\n",
              "      <td>/Users/fraser/Uni/Year 3/Project/processed_dat...</td>\n",
              "      <td>/Users/fraser/Uni/Year 3/Project/processed_dat...</td>\n",
              "      <td>/Users/fraser/Uni/Year 3/Project/processed_dat...</td>\n",
              "      <td>1bar</td>\n",
              "    </tr>\n",
              "  </tbody>\n",
              "</table>\n",
              "</div>"
            ],
            "text/plain": [
              "     sample                                          vibration  \\\n",
              "301     302  /Users/fraser/Uni/Year 3/Project/processed_dat...   \n",
              "150     151  /Users/fraser/Uni/Year 3/Project/processed_dat...   \n",
              "189     190  /Users/fraser/Uni/Year 3/Project/processed_dat...   \n",
              "79       80  /Users/fraser/Uni/Year 3/Project/processed_dat...   \n",
              "322     323  /Users/fraser/Uni/Year 3/Project/processed_dat...   \n",
              "\n",
              "                                               current  \\\n",
              "301  /Users/fraser/Uni/Year 3/Project/processed_dat...   \n",
              "150  /Users/fraser/Uni/Year 3/Project/processed_dat...   \n",
              "189  /Users/fraser/Uni/Year 3/Project/processed_dat...   \n",
              "79   /Users/fraser/Uni/Year 3/Project/processed_dat...   \n",
              "322  /Users/fraser/Uni/Year 3/Project/processed_dat...   \n",
              "\n",
              "                                               thermal label  \n",
              "301  /Users/fraser/Uni/Year 3/Project/processed_dat...  1bar  \n",
              "150  /Users/fraser/Uni/Year 3/Project/processed_dat...  1bar  \n",
              "189  /Users/fraser/Uni/Year 3/Project/processed_dat...  1bar  \n",
              "79   /Users/fraser/Uni/Year 3/Project/processed_dat...  1bar  \n",
              "322  /Users/fraser/Uni/Year 3/Project/processed_dat...  1bar  "
            ]
          },
          "metadata": {
            "tags": []
          },
          "execution_count": 17
        }
      ]
    },
    {
      "cell_type": "markdown",
      "metadata": {
        "id": "gUFgvj-KkIaY",
        "colab_type": "text"
      },
      "source": [
        "## Check that train, test, valid sets are unique"
      ]
    },
    {
      "cell_type": "code",
      "metadata": {
        "id": "t8y_HlCVkIaZ",
        "colab_type": "code",
        "colab": {},
        "outputId": "c80eb466-9427-4a99-b228-66f98395f2f2"
      },
      "source": [
        "set(data_train['sample'].values) & set(data_valid['sample'].values) & set(data_test['sample'].values)        "
      ],
      "execution_count": 0,
      "outputs": [
        {
          "output_type": "execute_result",
          "data": {
            "text/plain": [
              "set()"
            ]
          },
          "metadata": {
            "tags": []
          },
          "execution_count": 18
        }
      ]
    },
    {
      "cell_type": "markdown",
      "metadata": {
        "id": "dBftoIzekIab",
        "colab_type": "text"
      },
      "source": [
        "# GADF Vibration"
      ]
    },
    {
      "cell_type": "code",
      "metadata": {
        "id": "0S0z-Fe5kIab",
        "colab_type": "code",
        "colab": {}
      },
      "source": [
        "gadf = GramianAngularField(image_size=224, method='difference', overlapping=True)"
      ],
      "execution_count": 0,
      "outputs": []
    },
    {
      "cell_type": "markdown",
      "metadata": {
        "id": "-yfE8GqVkIad",
        "colab_type": "text"
      },
      "source": [
        "## Create GADF Vibration Directory"
      ]
    },
    {
      "cell_type": "code",
      "metadata": {
        "id": "xzdkRIGZkIae",
        "colab_type": "code",
        "colab": {},
        "outputId": "8439db12-7303-4478-f9f1-4e6de78cf10e"
      },
      "source": [
        "gadf_vib_dir = project_directory + \"GADF_vibration\"\n",
        "\n",
        "if not os.path.exists(gadf_vib_dir):\n",
        "    os.mkdir(gadf_vib_dir)\n",
        "else:\n",
        "    print(f\"{gadf_vib_dir} aready exists.\")"
      ],
      "execution_count": 0,
      "outputs": [
        {
          "output_type": "stream",
          "text": [
            "/Users/fraser/Uni/Year 3/Project/GADF_vibration aready exists.\n"
          ],
          "name": "stdout"
        }
      ]
    },
    {
      "cell_type": "markdown",
      "metadata": {
        "id": "UpW_PV79kIaf",
        "colab_type": "text"
      },
      "source": [
        "## Training Set"
      ]
    },
    {
      "cell_type": "markdown",
      "metadata": {
        "id": "4SPO2BA0kIag",
        "colab_type": "text"
      },
      "source": [
        "## Create images & save to directory"
      ]
    },
    {
      "cell_type": "code",
      "metadata": {
        "id": "X_jMqHLykIag",
        "colab_type": "code",
        "colab": {}
      },
      "source": [
        "gadf_vib_dir_train = gadf_vib_dir + f\"/train\""
      ],
      "execution_count": 0,
      "outputs": []
    },
    {
      "cell_type": "code",
      "metadata": {
        "id": "UcelWMYhkIai",
        "colab_type": "code",
        "colab": {},
        "outputId": "af03ae26-41d1-483e-9ce1-8ebcddc1361f"
      },
      "source": [
        "for i, v_file in enumerate(data_train['vibration']):\n",
        "    \n",
        "    if i % 100 == 0:\n",
        "        print(f\"{i}/{len(data_train['vibration'])} images produced...\")\n",
        "    \n",
        "    v_path = Path(v_file)\n",
        "    label = v_path.parts[7]\n",
        "    \n",
        "    dest_directory = gadf_vib_dir_train + f\"/{label}/\"\n",
        "    \n",
        "    if not os.path.exists(dest_directory):\n",
        "        os.mkdir(dest_directory)\n",
        "    \n",
        "    filename = v_path.parts[-1].replace(\".csv\",\"\")\n",
        "    \n",
        "    v_data = np.array(pd.read_csv(v_file))\n",
        "    \n",
        "    v_gadf = gadf.fit_transform(v_data.T)\n",
        "    \n",
        "    plt.imsave(f\"{dest_directory}{filename}.png\", v_gadf[0])"
      ],
      "execution_count": 0,
      "outputs": [
        {
          "output_type": "stream",
          "text": [
            "0/1456 images produced...\n",
            "100/1456 images produced...\n",
            "200/1456 images produced...\n",
            "300/1456 images produced...\n",
            "400/1456 images produced...\n",
            "500/1456 images produced...\n",
            "600/1456 images produced...\n",
            "700/1456 images produced...\n",
            "800/1456 images produced...\n",
            "900/1456 images produced...\n",
            "1000/1456 images produced...\n",
            "1100/1456 images produced...\n",
            "1200/1456 images produced...\n",
            "1300/1456 images produced...\n",
            "1400/1456 images produced...\n"
          ],
          "name": "stdout"
        }
      ]
    },
    {
      "cell_type": "markdown",
      "metadata": {
        "id": "5Swg9S_ykIak",
        "colab_type": "text"
      },
      "source": [
        "## Validation Set"
      ]
    },
    {
      "cell_type": "code",
      "metadata": {
        "id": "WPh14zl_kIak",
        "colab_type": "code",
        "colab": {}
      },
      "source": [
        "gadf_vib_dir_valid = gadf_vib_dir + f\"/valid\""
      ],
      "execution_count": 0,
      "outputs": []
    },
    {
      "cell_type": "code",
      "metadata": {
        "id": "BX1EO1VbkIam",
        "colab_type": "code",
        "colab": {},
        "outputId": "36b4d32c-8e7f-4e71-e876-df6aa41aaf99"
      },
      "source": [
        "for i, v_file in enumerate(data_valid['vibration']):\n",
        "    \n",
        "    if i % 100 == 0:\n",
        "        print(f\"{i}/{len(data_valid['vibration'])} images produced...\")\n",
        "    \n",
        "    v_path = Path(v_file)\n",
        "    label = v_path.parts[7]\n",
        "    \n",
        "    dest_directory = gadf_vib_dir_valid + f\"/{label}/\"\n",
        "    \n",
        "    if not os.path.exists(dest_directory):\n",
        "        os.mkdir(dest_directory)\n",
        "    \n",
        "    filename = v_path.parts[-1].replace(\".csv\",\"\")\n",
        "    \n",
        "    v_data = np.array(pd.read_csv(v_file))\n",
        "    \n",
        "    v_gadf = gadf.fit_transform(v_data.T)\n",
        "    \n",
        "    plt.imsave(f\"{dest_directory}{filename}.png\", v_gadf[0])"
      ],
      "execution_count": 0,
      "outputs": [
        {
          "output_type": "stream",
          "text": [
            "0/368 images produced...\n",
            "100/368 images produced...\n",
            "200/368 images produced...\n",
            "300/368 images produced...\n"
          ],
          "name": "stdout"
        }
      ]
    },
    {
      "cell_type": "markdown",
      "metadata": {
        "id": "LdDOebK6kIao",
        "colab_type": "text"
      },
      "source": [
        "## Test Set"
      ]
    },
    {
      "cell_type": "code",
      "metadata": {
        "id": "fqEziCjbkIao",
        "colab_type": "code",
        "colab": {}
      },
      "source": [
        "gadf_vib_dir_test = gadf_vib_dir + f\"/test\""
      ],
      "execution_count": 0,
      "outputs": []
    },
    {
      "cell_type": "code",
      "metadata": {
        "id": "m0XGbp2skIaq",
        "colab_type": "code",
        "colab": {},
        "outputId": "bf4ff311-cd90-4bdf-aaf9-b36d153d60a9"
      },
      "source": [
        "for i, v_file in enumerate(data_test['vibration']):\n",
        "    \n",
        "    if i % 100 == 0:\n",
        "        print(f\"{i}/{len(data_test['vibration'])} images produced...\")\n",
        "    \n",
        "    v_path = Path(v_file)\n",
        "    label = v_path.parts[7]\n",
        "    \n",
        "    dest_directory = gadf_vib_dir_test + f\"/{label}/\"\n",
        "    \n",
        "    if not os.path.exists(dest_directory):\n",
        "        os.mkdir(dest_directory)\n",
        "    \n",
        "    filename = v_path.parts[-1].replace(\".csv\",\"\")\n",
        "    \n",
        "    v_data = np.array(pd.read_csv(v_file))\n",
        "    \n",
        "    v_gadf = gadf.fit_transform(v_data.T)\n",
        "    \n",
        "    plt.imsave(f\"{dest_directory}{filename}.png\", v_gadf[0])"
      ],
      "execution_count": 0,
      "outputs": [
        {
          "output_type": "stream",
          "text": [
            "0/456 images produced...\n",
            "100/456 images produced...\n",
            "200/456 images produced...\n",
            "300/456 images produced...\n",
            "400/456 images produced...\n"
          ],
          "name": "stdout"
        }
      ]
    },
    {
      "cell_type": "code",
      "metadata": {
        "id": "HPpEGeZhkIas",
        "colab_type": "code",
        "colab": {}
      },
      "source": [
        ""
      ],
      "execution_count": 0,
      "outputs": []
    }
  ]
}