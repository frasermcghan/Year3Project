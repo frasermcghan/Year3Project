{
 "cells": [
  {
   "cell_type": "code",
   "execution_count": 1,
   "metadata": {},
   "outputs": [],
   "source": [
    "import matplotlib.pyplot as plt \n",
    "%matplotlib inline\n",
    "\n",
    "import pandas as pd \n",
    "import numpy as np\n",
    "import os\n",
    "from pathlib import Path\n",
    "\n",
    "from pyts.image import GramianAngularField, MarkovTransitionField, RecurrencePlot\n",
    "from sklearn.model_selection import train_test_split"
   ]
  },
  {
   "cell_type": "code",
   "execution_count": 2,
   "metadata": {},
   "outputs": [],
   "source": [
    "project_directory = \"/Users/fraser/Uni/Year 3/Project/\""
   ]
  },
  {
   "cell_type": "code",
   "execution_count": 3,
   "metadata": {},
   "outputs": [],
   "source": [
    "data_summary_file = \"/Users/fraser/Uni/Year 3/Project/processed_data/data_summary.csv\""
   ]
  },
  {
   "cell_type": "markdown",
   "metadata": {},
   "source": [
    "# Split data into train and test set"
   ]
  },
  {
   "cell_type": "markdown",
   "metadata": {},
   "source": [
    "- classes are imabalanced as there are only datapoints for 2/3 load conditions for '4bars' and '8bars'\n",
    "- therefore we will split the dataset by fault, randomly split each into train and test sets, then join them back together"
   ]
  },
  {
   "cell_type": "code",
   "execution_count": 4,
   "metadata": {},
   "outputs": [],
   "source": [
    "data = pd.read_csv(data_summary_file)"
   ]
  },
  {
   "cell_type": "code",
   "execution_count": 5,
   "metadata": {},
   "outputs": [],
   "source": [
    "data_1bar = data[data['label'] == '1bar']\n",
    "data_4bars = data[data['label'] == '4bars']\n",
    "data_8bars = data[data['label'] == '8bars']\n",
    "data_inner = data[data['label'] == 'inner']\n",
    "data_outer = data[data['label'] == 'outer']\n",
    "data_ball = data[data['label'] == 'ball']\n",
    "data_healthy = data[data['label'] == 'healthy']"
   ]
  },
  {
   "cell_type": "code",
   "execution_count": 6,
   "metadata": {},
   "outputs": [
    {
     "name": "stdout",
     "output_type": "stream",
     "text": [
      "Number of 1bar: 360\n",
      "Number of 4bars: 240\n",
      "Number of 8bars: 240\n",
      "Number of inner: 360\n",
      "Number of outer: 360\n",
      "Number of ball: 360\n",
      "Number of healthy: 360\n"
     ]
    }
   ],
   "source": [
    "print(f\"Number of 1bar: {len(data_1bar)}\")\n",
    "print(f\"Number of 4bars: {len(data_4bars)}\")\n",
    "print(f\"Number of 8bars: {len(data_8bars)}\")\n",
    "print(f\"Number of inner: {len(data_inner)}\")\n",
    "print(f\"Number of outer: {len(data_outer)}\")\n",
    "print(f\"Number of ball: {len(data_ball)}\")\n",
    "print(f\"Number of healthy: {len(data_healthy)}\")"
   ]
  },
  {
   "cell_type": "markdown",
   "metadata": {},
   "source": [
    "### Create Test Set"
   ]
  },
  {
   "cell_type": "code",
   "execution_count": 7,
   "metadata": {},
   "outputs": [],
   "source": [
    "data_1bar_train, data_1bar_test = train_test_split(data_1bar, \n",
    "                                                   test_size=0.2,\n",
    "                                                   random_state=42)\n",
    "\n",
    "data_4bars_train, data_4bars_test = train_test_split(data_4bars, \n",
    "                                                     test_size=0.2,\n",
    "                                                     random_state=42)\n",
    "\n",
    "data_8bars_train, data_8bars_test = train_test_split(data_8bars,\n",
    "                                                     test_size=0.2,\n",
    "                                                     random_state=42)\n",
    "\n",
    "data_inner_train, data_inner_test = train_test_split(data_inner,\n",
    "                                                     test_size=0.2, \n",
    "                                                     random_state=42)\n",
    "\n",
    "data_outer_train, data_outer_test = train_test_split(data_outer, \n",
    "                                                     test_size=0.2, \n",
    "                                                     random_state=42)\n",
    "\n",
    "data_ball_train, data_ball_test = train_test_split(data_ball, \n",
    "                                                   test_size=0.2, \n",
    "                                                   random_state=42)\n",
    "\n",
    "data_healthy_train, data_healthy_test = train_test_split(data_healthy, \n",
    "                                                         test_size=0.2, \n",
    "                                                         random_state=42)"
   ]
  },
  {
   "cell_type": "code",
   "execution_count": 8,
   "metadata": {},
   "outputs": [],
   "source": [
    "test_dfs = [data_1bar_test, \n",
    "             data_4bars_test,\n",
    "             data_8bars_test,\n",
    "             data_inner_test,\n",
    "             data_outer_test,\n",
    "             data_ball_test,\n",
    "             data_healthy_test]"
   ]
  },
  {
   "cell_type": "code",
   "execution_count": 9,
   "metadata": {},
   "outputs": [],
   "source": [
    "data_test = pd.concat(test_dfs)"
   ]
  },
  {
   "cell_type": "code",
   "execution_count": 10,
   "metadata": {},
   "outputs": [
    {
     "data": {
      "text/html": [
       "<div>\n",
       "<style scoped>\n",
       "    .dataframe tbody tr th:only-of-type {\n",
       "        vertical-align: middle;\n",
       "    }\n",
       "\n",
       "    .dataframe tbody tr th {\n",
       "        vertical-align: top;\n",
       "    }\n",
       "\n",
       "    .dataframe thead th {\n",
       "        text-align: right;\n",
       "    }\n",
       "</style>\n",
       "<table border=\"1\" class=\"dataframe\">\n",
       "  <thead>\n",
       "    <tr style=\"text-align: right;\">\n",
       "      <th></th>\n",
       "      <th>sample</th>\n",
       "      <th>vibration</th>\n",
       "      <th>current</th>\n",
       "      <th>thermal</th>\n",
       "      <th>label</th>\n",
       "    </tr>\n",
       "  </thead>\n",
       "  <tbody>\n",
       "    <tr>\n",
       "      <th>224</th>\n",
       "      <td>225</td>\n",
       "      <td>/Users/fraser/Uni/Year 3/Project/processed_dat...</td>\n",
       "      <td>/Users/fraser/Uni/Year 3/Project/processed_dat...</td>\n",
       "      <td>/Users/fraser/Uni/Year 3/Project/processed_dat...</td>\n",
       "      <td>1bar</td>\n",
       "    </tr>\n",
       "    <tr>\n",
       "      <th>42</th>\n",
       "      <td>43</td>\n",
       "      <td>/Users/fraser/Uni/Year 3/Project/processed_dat...</td>\n",
       "      <td>/Users/fraser/Uni/Year 3/Project/processed_dat...</td>\n",
       "      <td>/Users/fraser/Uni/Year 3/Project/processed_dat...</td>\n",
       "      <td>1bar</td>\n",
       "    </tr>\n",
       "    <tr>\n",
       "      <th>285</th>\n",
       "      <td>286</td>\n",
       "      <td>/Users/fraser/Uni/Year 3/Project/processed_dat...</td>\n",
       "      <td>/Users/fraser/Uni/Year 3/Project/processed_dat...</td>\n",
       "      <td>/Users/fraser/Uni/Year 3/Project/processed_dat...</td>\n",
       "      <td>1bar</td>\n",
       "    </tr>\n",
       "    <tr>\n",
       "      <th>302</th>\n",
       "      <td>303</td>\n",
       "      <td>/Users/fraser/Uni/Year 3/Project/processed_dat...</td>\n",
       "      <td>/Users/fraser/Uni/Year 3/Project/processed_dat...</td>\n",
       "      <td>/Users/fraser/Uni/Year 3/Project/processed_dat...</td>\n",
       "      <td>1bar</td>\n",
       "    </tr>\n",
       "    <tr>\n",
       "      <th>56</th>\n",
       "      <td>57</td>\n",
       "      <td>/Users/fraser/Uni/Year 3/Project/processed_dat...</td>\n",
       "      <td>/Users/fraser/Uni/Year 3/Project/processed_dat...</td>\n",
       "      <td>/Users/fraser/Uni/Year 3/Project/processed_dat...</td>\n",
       "      <td>1bar</td>\n",
       "    </tr>\n",
       "  </tbody>\n",
       "</table>\n",
       "</div>"
      ],
      "text/plain": [
       "     sample                                          vibration  \\\n",
       "224     225  /Users/fraser/Uni/Year 3/Project/processed_dat...   \n",
       "42       43  /Users/fraser/Uni/Year 3/Project/processed_dat...   \n",
       "285     286  /Users/fraser/Uni/Year 3/Project/processed_dat...   \n",
       "302     303  /Users/fraser/Uni/Year 3/Project/processed_dat...   \n",
       "56       57  /Users/fraser/Uni/Year 3/Project/processed_dat...   \n",
       "\n",
       "                                               current  \\\n",
       "224  /Users/fraser/Uni/Year 3/Project/processed_dat...   \n",
       "42   /Users/fraser/Uni/Year 3/Project/processed_dat...   \n",
       "285  /Users/fraser/Uni/Year 3/Project/processed_dat...   \n",
       "302  /Users/fraser/Uni/Year 3/Project/processed_dat...   \n",
       "56   /Users/fraser/Uni/Year 3/Project/processed_dat...   \n",
       "\n",
       "                                               thermal label  \n",
       "224  /Users/fraser/Uni/Year 3/Project/processed_dat...  1bar  \n",
       "42   /Users/fraser/Uni/Year 3/Project/processed_dat...  1bar  \n",
       "285  /Users/fraser/Uni/Year 3/Project/processed_dat...  1bar  \n",
       "302  /Users/fraser/Uni/Year 3/Project/processed_dat...  1bar  \n",
       "56   /Users/fraser/Uni/Year 3/Project/processed_dat...  1bar  "
      ]
     },
     "execution_count": 10,
     "metadata": {},
     "output_type": "execute_result"
    }
   ],
   "source": [
    "data_test.head()"
   ]
  },
  {
   "cell_type": "markdown",
   "metadata": {},
   "source": [
    "### Create Training and Validation Set"
   ]
  },
  {
   "cell_type": "code",
   "execution_count": 11,
   "metadata": {},
   "outputs": [],
   "source": [
    "data_1bar_train, data_1bar_valid = train_test_split(data_1bar_train, \n",
    "                                                    test_size=0.2, \n",
    "                                                    random_state=42)\n",
    "\n",
    "data_4bars_train, data_4bars_valid = train_test_split(data_4bars_train,\n",
    "                                                      test_size=0.2,\n",
    "                                                      random_state=42)\n",
    "\n",
    "data_8bars_train, data_8bars_valid = train_test_split(data_8bars_train,\n",
    "                                                      test_size=0.2, \n",
    "                                                      random_state=42)\n",
    "\n",
    "data_inner_train, data_inner_valid = train_test_split(data_inner_train, \n",
    "                                                      test_size=0.2, \n",
    "                                                      random_state=42)\n",
    "\n",
    "data_outer_train, data_outer_valid = train_test_split(data_outer_train, \n",
    "                                                      test_size=0.2, \n",
    "                                                      random_state=42)\n",
    "\n",
    "data_ball_train, data_ball_valid = train_test_split(data_ball_train,\n",
    "                                                    test_size=0.2, \n",
    "                                                    random_state=42)\n",
    "\n",
    "data_healthy_train, data_healthy_valid = train_test_split(data_healthy_train, \n",
    "                                                          test_size=0.2, \n",
    "                                                          random_state=42)"
   ]
  },
  {
   "cell_type": "code",
   "execution_count": 12,
   "metadata": {},
   "outputs": [],
   "source": [
    "train_dfs = [data_1bar_train, \n",
    "             data_4bars_train,\n",
    "             data_8bars_train,\n",
    "             data_inner_train,\n",
    "             data_outer_train,\n",
    "             data_ball_train,\n",
    "             data_healthy_train]"
   ]
  },
  {
   "cell_type": "code",
   "execution_count": 13,
   "metadata": {},
   "outputs": [],
   "source": [
    "valid_dfs = [data_1bar_valid, \n",
    "             data_4bars_valid,\n",
    "             data_8bars_valid,\n",
    "             data_inner_valid,\n",
    "             data_outer_valid,\n",
    "             data_ball_valid,\n",
    "             data_healthy_valid]"
   ]
  },
  {
   "cell_type": "code",
   "execution_count": 14,
   "metadata": {},
   "outputs": [],
   "source": [
    "data_train = pd.concat(train_dfs)"
   ]
  },
  {
   "cell_type": "code",
   "execution_count": 15,
   "metadata": {},
   "outputs": [
    {
     "data": {
      "text/html": [
       "<div>\n",
       "<style scoped>\n",
       "    .dataframe tbody tr th:only-of-type {\n",
       "        vertical-align: middle;\n",
       "    }\n",
       "\n",
       "    .dataframe tbody tr th {\n",
       "        vertical-align: top;\n",
       "    }\n",
       "\n",
       "    .dataframe thead th {\n",
       "        text-align: right;\n",
       "    }\n",
       "</style>\n",
       "<table border=\"1\" class=\"dataframe\">\n",
       "  <thead>\n",
       "    <tr style=\"text-align: right;\">\n",
       "      <th></th>\n",
       "      <th>sample</th>\n",
       "      <th>vibration</th>\n",
       "      <th>current</th>\n",
       "      <th>thermal</th>\n",
       "      <th>label</th>\n",
       "    </tr>\n",
       "  </thead>\n",
       "  <tbody>\n",
       "    <tr>\n",
       "      <th>296</th>\n",
       "      <td>297</td>\n",
       "      <td>/Users/fraser/Uni/Year 3/Project/processed_dat...</td>\n",
       "      <td>/Users/fraser/Uni/Year 3/Project/processed_dat...</td>\n",
       "      <td>/Users/fraser/Uni/Year 3/Project/processed_dat...</td>\n",
       "      <td>1bar</td>\n",
       "    </tr>\n",
       "    <tr>\n",
       "      <th>81</th>\n",
       "      <td>82</td>\n",
       "      <td>/Users/fraser/Uni/Year 3/Project/processed_dat...</td>\n",
       "      <td>/Users/fraser/Uni/Year 3/Project/processed_dat...</td>\n",
       "      <td>/Users/fraser/Uni/Year 3/Project/processed_dat...</td>\n",
       "      <td>1bar</td>\n",
       "    </tr>\n",
       "    <tr>\n",
       "      <th>10</th>\n",
       "      <td>11</td>\n",
       "      <td>/Users/fraser/Uni/Year 3/Project/processed_dat...</td>\n",
       "      <td>/Users/fraser/Uni/Year 3/Project/processed_dat...</td>\n",
       "      <td>/Users/fraser/Uni/Year 3/Project/processed_dat...</td>\n",
       "      <td>1bar</td>\n",
       "    </tr>\n",
       "    <tr>\n",
       "      <th>97</th>\n",
       "      <td>98</td>\n",
       "      <td>/Users/fraser/Uni/Year 3/Project/processed_dat...</td>\n",
       "      <td>/Users/fraser/Uni/Year 3/Project/processed_dat...</td>\n",
       "      <td>/Users/fraser/Uni/Year 3/Project/processed_dat...</td>\n",
       "      <td>1bar</td>\n",
       "    </tr>\n",
       "    <tr>\n",
       "      <th>145</th>\n",
       "      <td>146</td>\n",
       "      <td>/Users/fraser/Uni/Year 3/Project/processed_dat...</td>\n",
       "      <td>/Users/fraser/Uni/Year 3/Project/processed_dat...</td>\n",
       "      <td>/Users/fraser/Uni/Year 3/Project/processed_dat...</td>\n",
       "      <td>1bar</td>\n",
       "    </tr>\n",
       "  </tbody>\n",
       "</table>\n",
       "</div>"
      ],
      "text/plain": [
       "     sample                                          vibration  \\\n",
       "296     297  /Users/fraser/Uni/Year 3/Project/processed_dat...   \n",
       "81       82  /Users/fraser/Uni/Year 3/Project/processed_dat...   \n",
       "10       11  /Users/fraser/Uni/Year 3/Project/processed_dat...   \n",
       "97       98  /Users/fraser/Uni/Year 3/Project/processed_dat...   \n",
       "145     146  /Users/fraser/Uni/Year 3/Project/processed_dat...   \n",
       "\n",
       "                                               current  \\\n",
       "296  /Users/fraser/Uni/Year 3/Project/processed_dat...   \n",
       "81   /Users/fraser/Uni/Year 3/Project/processed_dat...   \n",
       "10   /Users/fraser/Uni/Year 3/Project/processed_dat...   \n",
       "97   /Users/fraser/Uni/Year 3/Project/processed_dat...   \n",
       "145  /Users/fraser/Uni/Year 3/Project/processed_dat...   \n",
       "\n",
       "                                               thermal label  \n",
       "296  /Users/fraser/Uni/Year 3/Project/processed_dat...  1bar  \n",
       "81   /Users/fraser/Uni/Year 3/Project/processed_dat...  1bar  \n",
       "10   /Users/fraser/Uni/Year 3/Project/processed_dat...  1bar  \n",
       "97   /Users/fraser/Uni/Year 3/Project/processed_dat...  1bar  \n",
       "145  /Users/fraser/Uni/Year 3/Project/processed_dat...  1bar  "
      ]
     },
     "execution_count": 15,
     "metadata": {},
     "output_type": "execute_result"
    }
   ],
   "source": [
    "data_train.head()"
   ]
  },
  {
   "cell_type": "code",
   "execution_count": 16,
   "metadata": {},
   "outputs": [],
   "source": [
    "data_valid = pd.concat(valid_dfs)"
   ]
  },
  {
   "cell_type": "code",
   "execution_count": 17,
   "metadata": {},
   "outputs": [
    {
     "data": {
      "text/html": [
       "<div>\n",
       "<style scoped>\n",
       "    .dataframe tbody tr th:only-of-type {\n",
       "        vertical-align: middle;\n",
       "    }\n",
       "\n",
       "    .dataframe tbody tr th {\n",
       "        vertical-align: top;\n",
       "    }\n",
       "\n",
       "    .dataframe thead th {\n",
       "        text-align: right;\n",
       "    }\n",
       "</style>\n",
       "<table border=\"1\" class=\"dataframe\">\n",
       "  <thead>\n",
       "    <tr style=\"text-align: right;\">\n",
       "      <th></th>\n",
       "      <th>sample</th>\n",
       "      <th>vibration</th>\n",
       "      <th>current</th>\n",
       "      <th>thermal</th>\n",
       "      <th>label</th>\n",
       "    </tr>\n",
       "  </thead>\n",
       "  <tbody>\n",
       "    <tr>\n",
       "      <th>301</th>\n",
       "      <td>302</td>\n",
       "      <td>/Users/fraser/Uni/Year 3/Project/processed_dat...</td>\n",
       "      <td>/Users/fraser/Uni/Year 3/Project/processed_dat...</td>\n",
       "      <td>/Users/fraser/Uni/Year 3/Project/processed_dat...</td>\n",
       "      <td>1bar</td>\n",
       "    </tr>\n",
       "    <tr>\n",
       "      <th>150</th>\n",
       "      <td>151</td>\n",
       "      <td>/Users/fraser/Uni/Year 3/Project/processed_dat...</td>\n",
       "      <td>/Users/fraser/Uni/Year 3/Project/processed_dat...</td>\n",
       "      <td>/Users/fraser/Uni/Year 3/Project/processed_dat...</td>\n",
       "      <td>1bar</td>\n",
       "    </tr>\n",
       "    <tr>\n",
       "      <th>189</th>\n",
       "      <td>190</td>\n",
       "      <td>/Users/fraser/Uni/Year 3/Project/processed_dat...</td>\n",
       "      <td>/Users/fraser/Uni/Year 3/Project/processed_dat...</td>\n",
       "      <td>/Users/fraser/Uni/Year 3/Project/processed_dat...</td>\n",
       "      <td>1bar</td>\n",
       "    </tr>\n",
       "    <tr>\n",
       "      <th>79</th>\n",
       "      <td>80</td>\n",
       "      <td>/Users/fraser/Uni/Year 3/Project/processed_dat...</td>\n",
       "      <td>/Users/fraser/Uni/Year 3/Project/processed_dat...</td>\n",
       "      <td>/Users/fraser/Uni/Year 3/Project/processed_dat...</td>\n",
       "      <td>1bar</td>\n",
       "    </tr>\n",
       "    <tr>\n",
       "      <th>322</th>\n",
       "      <td>323</td>\n",
       "      <td>/Users/fraser/Uni/Year 3/Project/processed_dat...</td>\n",
       "      <td>/Users/fraser/Uni/Year 3/Project/processed_dat...</td>\n",
       "      <td>/Users/fraser/Uni/Year 3/Project/processed_dat...</td>\n",
       "      <td>1bar</td>\n",
       "    </tr>\n",
       "  </tbody>\n",
       "</table>\n",
       "</div>"
      ],
      "text/plain": [
       "     sample                                          vibration  \\\n",
       "301     302  /Users/fraser/Uni/Year 3/Project/processed_dat...   \n",
       "150     151  /Users/fraser/Uni/Year 3/Project/processed_dat...   \n",
       "189     190  /Users/fraser/Uni/Year 3/Project/processed_dat...   \n",
       "79       80  /Users/fraser/Uni/Year 3/Project/processed_dat...   \n",
       "322     323  /Users/fraser/Uni/Year 3/Project/processed_dat...   \n",
       "\n",
       "                                               current  \\\n",
       "301  /Users/fraser/Uni/Year 3/Project/processed_dat...   \n",
       "150  /Users/fraser/Uni/Year 3/Project/processed_dat...   \n",
       "189  /Users/fraser/Uni/Year 3/Project/processed_dat...   \n",
       "79   /Users/fraser/Uni/Year 3/Project/processed_dat...   \n",
       "322  /Users/fraser/Uni/Year 3/Project/processed_dat...   \n",
       "\n",
       "                                               thermal label  \n",
       "301  /Users/fraser/Uni/Year 3/Project/processed_dat...  1bar  \n",
       "150  /Users/fraser/Uni/Year 3/Project/processed_dat...  1bar  \n",
       "189  /Users/fraser/Uni/Year 3/Project/processed_dat...  1bar  \n",
       "79   /Users/fraser/Uni/Year 3/Project/processed_dat...  1bar  \n",
       "322  /Users/fraser/Uni/Year 3/Project/processed_dat...  1bar  "
      ]
     },
     "execution_count": 17,
     "metadata": {},
     "output_type": "execute_result"
    }
   ],
   "source": [
    "data_valid.head()"
   ]
  },
  {
   "cell_type": "markdown",
   "metadata": {},
   "source": [
    "## Check that train, test, valid sets are unique"
   ]
  },
  {
   "cell_type": "code",
   "execution_count": 18,
   "metadata": {},
   "outputs": [
    {
     "data": {
      "text/plain": [
       "set()"
      ]
     },
     "execution_count": 18,
     "metadata": {},
     "output_type": "execute_result"
    }
   ],
   "source": [
    "set(data_train['sample'].values) & set(data_valid['sample'].values) & set(data_test['sample'].values)        "
   ]
  },
  {
   "cell_type": "markdown",
   "metadata": {},
   "source": [
    "# GASF Current"
   ]
  },
  {
   "cell_type": "code",
   "execution_count": 19,
   "metadata": {},
   "outputs": [],
   "source": [
    "gasf = GramianAngularField(image_size=224, method='summation', overlapping=True)"
   ]
  },
  {
   "cell_type": "markdown",
   "metadata": {},
   "source": [
    "## Create GASF Current Directory"
   ]
  },
  {
   "cell_type": "code",
   "execution_count": 20,
   "metadata": {},
   "outputs": [
    {
     "name": "stdout",
     "output_type": "stream",
     "text": [
      "/Users/fraser/Uni/Year 3/Project/GASF_current aready exists.\n"
     ]
    }
   ],
   "source": [
    "gasf_cur_dir = project_directory + \"GASF_current\"\n",
    "\n",
    "if not os.path.exists(gasf_cur_dir):\n",
    "    os.mkdir(gasf_cur_dir)\n",
    "else:\n",
    "    print(f\"{gasf_cur_dir} aready exists.\")"
   ]
  },
  {
   "cell_type": "markdown",
   "metadata": {},
   "source": [
    "## Training Set"
   ]
  },
  {
   "cell_type": "markdown",
   "metadata": {},
   "source": [
    "## Create images & save to directory"
   ]
  },
  {
   "cell_type": "code",
   "execution_count": 21,
   "metadata": {},
   "outputs": [],
   "source": [
    "gasf_cur_dir_train = gasf_cur_dir + f\"/train\""
   ]
  },
  {
   "cell_type": "code",
   "execution_count": 22,
   "metadata": {},
   "outputs": [
    {
     "name": "stdout",
     "output_type": "stream",
     "text": [
      "0/1456 images produced...\n",
      "100/1456 images produced...\n",
      "200/1456 images produced...\n",
      "300/1456 images produced...\n",
      "400/1456 images produced...\n",
      "500/1456 images produced...\n",
      "600/1456 images produced...\n",
      "700/1456 images produced...\n",
      "800/1456 images produced...\n",
      "900/1456 images produced...\n",
      "1000/1456 images produced...\n",
      "1100/1456 images produced...\n",
      "1200/1456 images produced...\n",
      "1300/1456 images produced...\n",
      "1400/1456 images produced...\n"
     ]
    }
   ],
   "source": [
    "for i, c_file in enumerate(data_train['current']):\n",
    "    \n",
    "    if i % 100 == 0:\n",
    "        print(f\"{i}/{len(data_train['current'])} images produced...\")\n",
    "    \n",
    "    c_path = Path(c_file)\n",
    "    label = c_path.parts[7]\n",
    "    \n",
    "    dest_directory = gasf_cur_dir_train + f\"/{label}/\"\n",
    "    \n",
    "    if not os.path.exists(dest_directory):\n",
    "        os.mkdir(dest_directory)\n",
    "    \n",
    "    filename = c_path.parts[-1].replace(\".csv\",\"\")\n",
    "    \n",
    "    c_data = np.array(pd.read_csv(c_file))\n",
    "    \n",
    "    c_gasf = gasf.fit_transform(c_data.T)\n",
    "    \n",
    "    plt.imsave(f\"{dest_directory}{filename}.png\", c_gasf[0])"
   ]
  },
  {
   "cell_type": "markdown",
   "metadata": {},
   "source": [
    "## Validation Set"
   ]
  },
  {
   "cell_type": "code",
   "execution_count": 23,
   "metadata": {},
   "outputs": [],
   "source": [
    "gasf_cur_dir_valid = gasf_cur_dir + f\"/valid\""
   ]
  },
  {
   "cell_type": "code",
   "execution_count": 24,
   "metadata": {},
   "outputs": [
    {
     "name": "stdout",
     "output_type": "stream",
     "text": [
      "0/368 images produced...\n",
      "100/368 images produced...\n",
      "200/368 images produced...\n",
      "300/368 images produced...\n"
     ]
    }
   ],
   "source": [
    "for i, c_file in enumerate(data_valid['current']):\n",
    "    \n",
    "    if i % 100 == 0:\n",
    "        print(f\"{i}/{len(data_valid['current'])} images produced...\")\n",
    "    \n",
    "    c_path = Path(c_file)\n",
    "    label = c_path.parts[7]\n",
    "    \n",
    "    dest_directory = gasf_cur_dir_valid + f\"/{label}/\"\n",
    "    \n",
    "    if not os.path.exists(dest_directory):\n",
    "        os.mkdir(dest_directory)\n",
    "    \n",
    "    filename = c_path.parts[-1].replace(\".csv\",\"\")\n",
    "    \n",
    "    c_data = np.array(pd.read_csv(c_file))\n",
    "    \n",
    "    c_gasf = gasf.fit_transform(c_data.T)\n",
    "    \n",
    "    plt.imsave(f\"{dest_directory}{filename}.png\", c_gasf[0])"
   ]
  },
  {
   "cell_type": "markdown",
   "metadata": {},
   "source": [
    "## Test Set"
   ]
  },
  {
   "cell_type": "code",
   "execution_count": 25,
   "metadata": {},
   "outputs": [],
   "source": [
    "gasf_cur_dir_test = gasf_cur_dir + f\"/test\""
   ]
  },
  {
   "cell_type": "code",
   "execution_count": 26,
   "metadata": {},
   "outputs": [
    {
     "name": "stdout",
     "output_type": "stream",
     "text": [
      "0/456 images produced...\n",
      "100/456 images produced...\n",
      "200/456 images produced...\n",
      "300/456 images produced...\n",
      "400/456 images produced...\n"
     ]
    }
   ],
   "source": [
    "for i, c_file in enumerate(data_test['current']):\n",
    "    \n",
    "    if i % 100 == 0:\n",
    "        print(f\"{i}/{len(data_test['current'])} images produced...\")\n",
    "    \n",
    "    c_path = Path(c_file)\n",
    "    label = c_path.parts[7]\n",
    "    \n",
    "    dest_directory = gasf_cur_dir_test + f\"/{label}/\"\n",
    "    \n",
    "    if not os.path.exists(dest_directory):\n",
    "        os.mkdir(dest_directory)\n",
    "    \n",
    "    filename = c_path.parts[-1].replace(\".csv\",\"\")\n",
    "    \n",
    "    c_data = np.array(pd.read_csv(c_file))\n",
    "    \n",
    "    c_gasf = gasf.fit_transform(c_data.T)\n",
    "    \n",
    "    plt.imsave(f\"{dest_directory}{filename}.png\", c_gasf[0])"
   ]
  },
  {
   "cell_type": "code",
   "execution_count": null,
   "metadata": {},
   "outputs": [],
   "source": []
  }
 ],
 "metadata": {
  "kernelspec": {
   "display_name": "Python 3",
   "language": "python",
   "name": "python3"
  },
  "language_info": {
   "codemirror_mode": {
    "name": "ipython",
    "version": 3
   },
   "file_extension": ".py",
   "mimetype": "text/x-python",
   "name": "python",
   "nbconvert_exporter": "python",
   "pygments_lexer": "ipython3",
   "version": "3.7.6"
  }
 },
 "nbformat": 4,
 "nbformat_minor": 2
}
