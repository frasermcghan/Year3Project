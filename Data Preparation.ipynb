{
 "cells": [
  {
   "cell_type": "code",
   "execution_count": 11,
   "metadata": {},
   "outputs": [],
   "source": [
    "import pandas as pd\n",
    "import matplotlib.pyplot as plt\n",
    "from pathlib import Path"
   ]
  },
  {
   "cell_type": "code",
   "execution_count": 23,
   "metadata": {},
   "outputs": [
    {
     "name": "stdout",
     "output_type": "stream",
     "text": [
      "('/', 'Users', 'fraser', 'Uni', 'Year 3', 'Project', 'data', '1bar', 'half_load')\n",
      "('/', 'Users', 'fraser', 'Uni', 'Year 3', 'Project', 'data', '1bar', 'no_load')\n",
      "('/', 'Users', 'fraser', 'Uni', 'Year 3', 'Project', 'data', '1bar', 'full_load')\n",
      "('/', 'Users', 'fraser', 'Uni', 'Year 3', 'Project', 'data', '4bars', 'half_load')\n",
      "('/', 'Users', 'fraser', 'Uni', 'Year 3', 'Project', 'data', '4bars', 'no_load')\n",
      "('/', 'Users', 'fraser', 'Uni', 'Year 3', 'Project', 'data', '4bars', 'full_load')\n",
      "('/', 'Users', 'fraser', 'Uni', 'Year 3', 'Project', 'data', 'healthy', 'half_load')\n",
      "('/', 'Users', 'fraser', 'Uni', 'Year 3', 'Project', 'data', 'healthy', 'no_load')\n",
      "('/', 'Users', 'fraser', 'Uni', 'Year 3', 'Project', 'data', 'healthy', 'full_load')\n",
      "('/', 'Users', 'fraser', 'Uni', 'Year 3', 'Project', 'data', 'test', 'test')\n",
      "('/', 'Users', 'fraser', 'Uni', 'Year 3', 'Project', 'data', 'inner', 'half_load')\n",
      "('/', 'Users', 'fraser', 'Uni', 'Year 3', 'Project', 'data', 'inner', 'no_load')\n",
      "('/', 'Users', 'fraser', 'Uni', 'Year 3', 'Project', 'data', 'inner', 'full_load')\n",
      "('/', 'Users', 'fraser', 'Uni', 'Year 3', 'Project', 'data', 'outer', 'half_load')\n",
      "('/', 'Users', 'fraser', 'Uni', 'Year 3', 'Project', 'data', 'outer', 'no_load')\n",
      "('/', 'Users', 'fraser', 'Uni', 'Year 3', 'Project', 'data', 'outer', 'full_load')\n",
      "('/', 'Users', 'fraser', 'Uni', 'Year 3', 'Project', 'data', 'ball', 'half_load')\n",
      "('/', 'Users', 'fraser', 'Uni', 'Year 3', 'Project', 'data', 'ball', 'no_load')\n",
      "('/', 'Users', 'fraser', 'Uni', 'Year 3', 'Project', 'data', 'ball', 'full_load')\n",
      "('/', 'Users', 'fraser', 'Uni', 'Year 3', 'Project', 'data', '8bars', 'half_load')\n",
      "('/', 'Users', 'fraser', 'Uni', 'Year 3', 'Project', 'data', '8bars', 'no_load')\n",
      "('/', 'Users', 'fraser', 'Uni', 'Year 3', 'Project', 'data', '8bars', 'full_load')\n"
     ]
    }
   ],
   "source": []
  },
  {
   "cell_type": "code",
   "execution_count": null,
   "metadata": {},
   "outputs": [],
   "source": []
  }
 ],
 "metadata": {
  "kernelspec": {
   "display_name": "Python 3",
   "language": "python",
   "name": "python3"
  },
  "language_info": {
   "codemirror_mode": {
    "name": "ipython",
    "version": 3
   },
   "file_extension": ".py",
   "mimetype": "text/x-python",
   "name": "python",
   "nbconvert_exporter": "python",
   "pygments_lexer": "ipython3",
   "version": "3.7.5"
  }
 },
 "nbformat": 4,
 "nbformat_minor": 2
}
