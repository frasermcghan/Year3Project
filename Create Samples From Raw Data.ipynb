{
 "cells": [
  {
   "cell_type": "code",
   "execution_count": 4,
   "metadata": {},
   "outputs": [],
   "source": [
    "import pandas as pd\n",
    "import numpy as np\n",
    "import os\n",
    "from shutil import copyfile"
   ]
  },
  {
   "cell_type": "code",
   "execution_count": 5,
   "metadata": {},
   "outputs": [],
   "source": [
    "data_dir = \"/Users/fraser/Uni/Year 3/Project/code/data/\""
   ]
  },
  {
   "cell_type": "code",
   "execution_count": 6,
   "metadata": {},
   "outputs": [],
   "source": [
    "new_dir = \"/Users/fraser/Uni/Year 3/Project/processed_data/\""
   ]
  },
  {
   "cell_type": "markdown",
   "metadata": {},
   "source": [
    "# Create 'processed_data' directory"
   ]
  },
  {
   "cell_type": "code",
   "execution_count": 7,
   "metadata": {
    "scrolled": true
   },
   "outputs": [
    {
     "name": "stdout",
     "output_type": "stream",
     "text": [
      "Processing 1bar...\n",
      "Processing 4bars...\n",
      "Processing .DS_Store...\n",
      "Processing healthy...\n",
      "Processing inner...\n",
      "Processing outer...\n",
      "Processing ball...\n",
      "Processing 8bars...\n"
     ]
    }
   ],
   "source": [
    "for adir in os.listdir(data_dir):\n",
    "    newadir = new_dir + adir\n",
    "    print(f\"Processing {adir}...\")\n",
    "    if not os.path.exists(newadir):\n",
    "        os.mkdir(newadir)\n",
    "\n",
    "    if not adir.startswith('.'):\n",
    "        bdir = data_dir + f'{adir}/'\n",
    "\n",
    "        for cdir in os.listdir(bdir):\n",
    "\n",
    "            if not cdir.startswith('.'):\n",
    "                ddir = bdir + f'{cdir}/'\n",
    "\n",
    "                for afile in os.listdir(ddir):\n",
    "\n",
    "                    if afile.endswith('.csv') and 'vibration' in afile:\n",
    "                        filepath = ddir + afile\n",
    "                        vib_data = pd.read_csv(filepath)\n",
    "                        vib_list = np.array_split(vib_data[' vibration'], 120)\n",
    "\n",
    "                        for i, v in enumerate(vib_list):\n",
    "                            vib_df = pd.DataFrame(data={\"vibration\": v})\n",
    "                            vib_df.to_csv(newadir + f\"/{adir}_{cdir}_vibration_{i}.csv\", index=False)                                \n",
    "\n",
    "                    if afile.endswith('.csv') and 'current' in afile:\n",
    "                        filepath = ddir + afile\n",
    "                        cur_data = pd.read_csv(filepath)\n",
    "                        cur_list = np.array_split(cur_data[' phase1'], 120)\n",
    "\n",
    "                        for i, c in enumerate(cur_list):\n",
    "                            cur_df = pd.DataFrame(data={\"current1\": c})\n",
    "                            cur_df.to_csv(newadir + f\"/{adir}_{cdir}_current_{i}.csv\",  index=False)  \n",
    "                    \n",
    "                    if afile.endswith('.png'):\n",
    "                        filepath = ddir + afile \n",
    "                        new_path = newadir + f\"/{afile}\"\n",
    "                        copyfile(filepath, new_path)"
   ]
  }
 ],
 "metadata": {
  "kernelspec": {
   "display_name": "Python 3",
   "language": "python",
   "name": "python3"
  },
  "language_info": {
   "codemirror_mode": {
    "name": "ipython",
    "version": 3
   },
   "file_extension": ".py",
   "mimetype": "text/x-python",
   "name": "python",
   "nbconvert_exporter": "python",
   "pygments_lexer": "ipython3",
   "version": "3.7.6"
  }
 },
 "nbformat": 4,
 "nbformat_minor": 2
}
